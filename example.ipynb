{
 "cells": [
  {
   "cell_type": "code",
   "execution_count": 1,
   "id": "cf5ee4a6-a289-4323-a65d-c46ace8aa4f4",
   "metadata": {},
   "outputs": [
    {
     "name": "stdout",
     "output_type": "stream",
     "text": [
      "Hello World\n"
     ]
    }
   ],
   "source": [
    "print(\"Hello World\")"
   ]
  },
  {
   "cell_type": "code",
   "execution_count": 6,
   "id": "72c32b48-4374-4560-bd59-c2327745c0c3",
   "metadata": {},
   "outputs": [],
   "source": [
    "# \"GRRRRR HEHEHEHA\""
   ]
  },
  {
   "cell_type": "code",
   "execution_count": 7,
   "id": "e2990f1d-6e72-4aaa-9b7e-2809cd604db4",
   "metadata": {},
   "outputs": [],
   "source": [
    "def f(x):\n",
    "    return x**2 +2"
   ]
  }
 ],
 "metadata": {
  "kernelspec": {
   "display_name": "Python 3 (ipykernel)",
   "language": "python",
   "name": "python3"
  },
  "language_info": {
   "codemirror_mode": {
    "name": "ipython",
    "version": 3
   },
   "file_extension": ".py",
   "mimetype": "text/x-python",
   "name": "python",
   "nbconvert_exporter": "python",
   "pygments_lexer": "ipython3",
   "version": "3.12.6"
  }
 },
 "nbformat": 4,
 "nbformat_minor": 5
}
